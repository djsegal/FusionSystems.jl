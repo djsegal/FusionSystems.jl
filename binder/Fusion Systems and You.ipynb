{
 "cells": [
  {
   "cell_type": "markdown",
   "metadata": {
    "slideshow": {
     "slide_type": "slide"
    }
   },
   "source": [
    "# Welcome to the FusionSystems demo\n",
    "\n",
    "The source code is available on [Github](https://github.com/djsegal/FusionSystems.jl)"
   ]
  },
  {
   "cell_type": "markdown",
   "metadata": {
    "slideshow": {
     "slide_type": "slide"
    }
   },
   "source": [
    "# First things first\n",
    "\n",
    "Let's run a cell to prove this is interactive"
   ]
  },
  {
   "cell_type": "markdown",
   "metadata": {
    "slideshow": {
     "slide_type": "slide"
    }
   },
   "source": [
    "## Run the following code block \n",
    "\n",
    "Click on the code and press `shift+enter`"
   ]
  },
  {
   "cell_type": "code",
   "execution_count": null,
   "metadata": {
    "slideshow": {
     "slide_type": "-"
    }
   },
   "outputs": [],
   "source": [
    "two = 1 + 1"
   ]
  },
  {
   "cell_type": "markdown",
   "metadata": {
    "slideshow": {
     "slide_type": "slide"
    }
   },
   "source": [
    "# Now let's load FusionSystems.jl"
   ]
  },
  {
   "cell_type": "code",
   "execution_count": null,
   "metadata": {},
   "outputs": [],
   "source": [
    "using FusionSystems\n",
    "\n",
    "println(\"Done!\")"
   ]
  },
  {
   "cell_type": "markdown",
   "metadata": {
    "slideshow": {
     "slide_type": "slide"
    }
   },
   "source": [
    "### This package can quickly find possible Fusion reactors\n",
    "\n",
    "For example this will give us MIT's [ARC](https://arxiv.org/abs/1409.3540) reactor design"
   ]
  },
  {
   "cell_type": "code",
   "execution_count": null,
   "metadata": {},
   "outputs": [],
   "source": [
    "ARC()"
   ]
  },
  {
   "cell_type": "markdown",
   "metadata": {
    "slideshow": {
     "slide_type": "slide"
    }
   },
   "source": [
    "# Next you actually have to solve a reactor\n",
    "\n",
    "This means finding a design that satisfies multiple engineering and physics constraints for a given magnet strength"
   ]
  },
  {
   "cell_type": "code",
   "execution_count": null,
   "metadata": {},
   "outputs": [],
   "source": [
    "magnet_strength = 9.2 # from ARC paper\n",
    "reactor = ARC(B_0=magnet_strength)\n",
    "\n",
    "solve!(reactor)"
   ]
  },
  {
   "cell_type": "markdown",
   "metadata": {
    "slideshow": {
     "slide_type": "slide"
    }
   },
   "source": [
    "### Finally we scan magnet strengths to make a curve\n",
    "\n",
    "A curve is much more informative than a single point in reactor space\n",
    "\n",
    "// remember this is a simple model with loads of uncertainty"
   ]
  },
  {
   "cell_type": "code",
   "execution_count": null,
   "metadata": {},
   "outputs": [],
   "source": [
    "scan = Scan(:ARC)\n",
    "\n",
    "FusionSystems.plot(scan, :B_C, :R_0)"
   ]
  },
  {
   "cell_type": "markdown",
   "metadata": {
    "slideshow": {
     "slide_type": "slide"
    }
   },
   "source": [
    "# As a bonus lets make a little GUI\n",
    "\n",
    "This will see how the different designs respond to ϵ\n",
    "\n",
    "// epsilon is what distinguishes a doughnut from a bicycle tire"
   ]
  },
  {
   "cell_type": "code",
   "execution_count": null,
   "metadata": {
    "slideshow": {
     "slide_type": "slide"
    }
   },
   "outputs": [],
   "source": [
    "using SimplePlots\n",
    "\n",
    "@gui for reactor in [:ARC, :DEMO, :Steady, :Pulsed], epsilon in 0.25:0.05:0.4\n",
    "  scan = Scan(reactor, epsilon=epsilon)\n",
    "  \n",
    "  FusionSystems.plot(scan, :B_C, :R_0)\n",
    "  title!(string(reactor))\n",
    "end"
   ]
  },
  {
   "cell_type": "markdown",
   "metadata": {
    "slideshow": {
     "slide_type": "slide"
    }
   },
   "source": [
    "# Fin.\n",
    "\n",
    "You can now continue to the [main demo](https://mybinder.org/v2/gh/djsegal/FusionSystems.jl/master?filepath=binder%2FFusion%20Energy.ipynb)"
   ]
  },
  {
   "cell_type": "code",
   "execution_count": null,
   "metadata": {
    "slideshow": {
     "slide_type": "skip"
    }
   },
   "outputs": [],
   "source": []
  }
 ],
 "metadata": {
  "@webio": {
   "lastCommId": null,
   "lastKernelId": null
  },
  "celltoolbar": "Slideshow",
  "kernelspec": {
   "display_name": "Julia 1.4.0",
   "language": "julia",
   "name": "julia-1.4"
  },
  "language_info": {
   "file_extension": ".jl",
   "mimetype": "application/julia",
   "name": "julia",
   "version": "1.4.0"
  },
  "livereveal": {
   "autolaunch": true
  }
 },
 "nbformat": 4,
 "nbformat_minor": 4
}
